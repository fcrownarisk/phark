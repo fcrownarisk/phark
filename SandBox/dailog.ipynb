
# Import necessary libraries
import random
import time

# Cell 1: Define operators and their conversation topics
print("Cell 1: Defining operators and conversation topics")

operators = {
    'Amiya': ['Rhodes Island', 'Originium Arts', 'Doctor'],
    'SilverAsh': ['Kjerag', 'Business', 'Family'],
    'Exusiai': ['Laterano', 'Guns', 'Apple Pie'],
    'Ch\'en': ['Lungmen', 'L.G.D.', 'Investigations'],
    'Kal\'tsit': ['Rhodes Island History', 'Medical Procedures', 'Monsters']
}

print("Operators and their conversation topics:")
for operator, topics in operators.items():
    print(f"{operator}: {', '.join(topics)}")

# Cell 2: Define conversation responses
print("\nCell 2: Defining conversation responses")

responses = {
    'Rhodes Island': ['Rhodes Island is our mobile base and pharmaceutical company.',
                      'We work to find a cure for Oripathy and help the infected.'],
    'Originium Arts': ['Originium Arts are abilities powered by Originium.',
                       'They can be very powerful, but also dangerous.'],
    'Doctor': ['The Doctor is our key tactical mind.',
               'We\'re glad to have you back with us.'],
    'Kjerag': ['Kjerag is a mountainous nation known for its harsh environment.',
               'It\'s where the SilverAsh family holds significant influence.'],
    'Business': ['The business world can be as cutthroat as any battlefield.',
                 'Proper strategy is key to success in both arenas.'],
    'Family': ['Family ties can be both a strength and a weakness.',
               'It\'s important to balance duty to family with personal growth.'],
    'Laterano': ['Laterano is a nation known for its advanced gun technology.',
                 'It\'s also home to the Sankta race, like myself.'],
    'Guns': ['Guns are my specialty! I can handle any firearm with ease.',
             'There\'s an art to gunmanship that goes beyond just pulling the trigger.'],
    'Apple Pie': ['Apple pie is the best! Want to try some I made?',
                  'There\'s nothing quite like a slice of warm apple pie after a mission.'],
    'Lungmen': ['Lungmen is a major city-state, known for its mix of modern and traditional.',
                'It\'s a complex place with its own share of problems.'],
    'L.G.D.': ['The L.G.D. is Lungmen\'s police force.',
               'We work hard to maintain order in the city.'],
    'Investigations': ['Investigations require patience and attention to detail.',
                       'Sometimes the smallest clue can break a case wide open.'],
    'Rhodes Island History': ['The history of Rhodes Island is... complicated.',
                              'There\'s much about our past that remains shrouded in mystery.'],
    'Medical Procedures': ['Our medical procedures are constantly evolving to combat Oripathy.',
                           'We must always balance effectiveness with patient safety.'],
    'Monsters': ['Monsters come in many forms, not all of them obvious.',
                 'Sometimes, what we call "monster" is simply something we don\'t understand.']
}

print("Conversation responses defined for each topic.")

# Cell 3: Create a function to simulate a conversation
print("\nCell 3: Creating conversation simulation function")

def simulate_conversation(operator):
    if operator not in operators:
        return f"Error: {operator} is not a valid operator."

    print(f"Starting conversation with {operator}...")
    topics = operators[operator]
    chosen_topic = random.choice(topics)
    print(f"{operator} wants to talk about {chosen_topic}.")

    response = random.choice(responses[chosen_topic])
    print(f"{operator} says: {response}")

    return f"Conversation with {operator} completed."

print("Conversation simulation function created.")

# Cell 4: Test the conversation simulation function
print("\nCell 4: Testing conversation simulation function")

for operator in operators.keys():
    result = simulate_conversation(operator)
    print(result)
    print()

# Cell 5: Create an automation function for multiple conversations
print("\nCell 5: Creating automation function for multiple conversations")

def automate_conversations(num_conversations):
    print(f"Starting automated conversations for {num_conversations} interactions...")
    for i in range(num_conversations):
        operator = random.choice(list(operators.keys()))
        result = simulate_conversation(operator)
        print(result)
        print(f"Conversation {i+1}/{num_conversations} completed.")
        print()
        time.sleep(1)  # Pause for 1 second between conversations
    print("All automated conversations completed.")

print("Automation function for multiple conversations created.")

# Cell 6: Test the automation function
print("\nCell 6: Testing automation function")

num_conversations = 5
print(f"Running automation for {num_conversations} conversations...")
automate_conversations(num_conversations)
